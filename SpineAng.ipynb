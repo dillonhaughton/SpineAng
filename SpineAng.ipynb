{
 "cells": [
  {
   "cell_type": "code",
   "execution_count": 1,
   "id": "94c75c8a",
   "metadata": {
    "collapsed": true
   },
   "outputs": [
    {
     "name": "stdout",
     "output_type": "stream",
     "text": [
      "Requirement already satisfied: trimesh in /Applications/Slicer.app/Contents/lib/Python/lib/python3.9/site-packages (3.20.2)\n",
      "Requirement already satisfied: numpy in /Applications/Slicer.app/Contents/lib/Python/lib/python3.9/site-packages (from trimesh) (1.23.4)\n",
      "Requirement already satisfied: k3d in /Applications/Slicer.app/Contents/lib/Python/lib/python3.9/site-packages (2.15.2)\n",
      "Requirement already satisfied: ipywidgets<9.0.0,>=7.0.0 in /Applications/Slicer.app/Contents/lib/Python/lib/python3.9/site-packages (from k3d) (8.0.4)\n",
      "Requirement already satisfied: numpy in /Applications/Slicer.app/Contents/lib/Python/lib/python3.9/site-packages (from k3d) (1.23.4)\n",
      "Requirement already satisfied: traitlets in /Applications/Slicer.app/Contents/lib/Python/lib/python3.9/site-packages (from k3d) (5.9.0)\n",
      "Requirement already satisfied: msgpack in /Applications/Slicer.app/Contents/lib/Python/lib/python3.9/site-packages (from k3d) (1.0.5)\n",
      "Requirement already satisfied: traittypes in /Applications/Slicer.app/Contents/lib/Python/lib/python3.9/site-packages (from k3d) (0.2.1)\n",
      "Requirement already satisfied: jupyterlab-widgets~=3.0 in /Applications/Slicer.app/Contents/lib/Python/lib/python3.9/site-packages (from ipywidgets<9.0.0,>=7.0.0->k3d) (3.0.5)\n",
      "Requirement already satisfied: ipython>=6.1.0 in /Applications/Slicer.app/Contents/lib/Python/lib/python3.9/site-packages (from ipywidgets<9.0.0,>=7.0.0->k3d) (8.11.0)\n",
      "Requirement already satisfied: ipykernel>=4.5.1 in /Applications/Slicer.app/Contents/lib/Python/lib/python3.9/site-packages (from ipywidgets<9.0.0,>=7.0.0->k3d) (6.21.3)\n",
      "Requirement already satisfied: widgetsnbextension~=4.0 in /Applications/Slicer.app/Contents/lib/Python/lib/python3.9/site-packages (from ipywidgets<9.0.0,>=7.0.0->k3d) (4.0.5)\n",
      "Requirement already satisfied: nest-asyncio in /Applications/Slicer.app/Contents/lib/Python/lib/python3.9/site-packages (from ipykernel>=4.5.1->ipywidgets<9.0.0,>=7.0.0->k3d) (1.5.6)\n",
      "Requirement already satisfied: comm>=0.1.1 in /Applications/Slicer.app/Contents/lib/Python/lib/python3.9/site-packages (from ipykernel>=4.5.1->ipywidgets<9.0.0,>=7.0.0->k3d) (0.1.2)\n",
      "Requirement already satisfied: appnope in /Applications/Slicer.app/Contents/lib/Python/lib/python3.9/site-packages (from ipykernel>=4.5.1->ipywidgets<9.0.0,>=7.0.0->k3d) (0.1.3)\n",
      "Requirement already satisfied: matplotlib-inline>=0.1 in /Applications/Slicer.app/Contents/lib/Python/lib/python3.9/site-packages (from ipykernel>=4.5.1->ipywidgets<9.0.0,>=7.0.0->k3d) (0.1.6)\n",
      "Requirement already satisfied: psutil in /Applications/Slicer.app/Contents/lib/Python/lib/python3.9/site-packages (from ipykernel>=4.5.1->ipywidgets<9.0.0,>=7.0.0->k3d) (5.9.4)\n",
      "Requirement already satisfied: pyzmq>=20 in /Applications/Slicer.app/Contents/lib/Python/lib/python3.9/site-packages (from ipykernel>=4.5.1->ipywidgets<9.0.0,>=7.0.0->k3d) (25.0.1)\n",
      "Requirement already satisfied: tornado>=6.1 in /Applications/Slicer.app/Contents/lib/Python/lib/python3.9/site-packages (from ipykernel>=4.5.1->ipywidgets<9.0.0,>=7.0.0->k3d) (6.2)\n",
      "Requirement already satisfied: debugpy>=1.6.5 in /Applications/Slicer.app/Contents/Extensions-31382/SlicerJupyter/lib/python3.9/site-packages (from ipykernel>=4.5.1->ipywidgets<9.0.0,>=7.0.0->k3d) (1.6.6)\n",
      "Requirement already satisfied: packaging in /Applications/Slicer.app/Contents/lib/Python/lib/python3.9/site-packages (from ipykernel>=4.5.1->ipywidgets<9.0.0,>=7.0.0->k3d) (23.0)\n",
      "Requirement already satisfied: jupyter-core!=5.0.*,>=4.12 in /Applications/Slicer.app/Contents/lib/Python/lib/python3.9/site-packages (from ipykernel>=4.5.1->ipywidgets<9.0.0,>=7.0.0->k3d) (5.3.0)\n",
      "Requirement already satisfied: jupyter-client>=6.1.12 in /Applications/Slicer.app/Contents/lib/Python/lib/python3.9/site-packages (from ipykernel>=4.5.1->ipywidgets<9.0.0,>=7.0.0->k3d) (8.0.3)\n",
      "Requirement already satisfied: pickleshare in /Applications/Slicer.app/Contents/lib/Python/lib/python3.9/site-packages (from ipython>=6.1.0->ipywidgets<9.0.0,>=7.0.0->k3d) (0.7.5)\n",
      "Requirement already satisfied: pexpect>4.3 in /Applications/Slicer.app/Contents/lib/Python/lib/python3.9/site-packages (from ipython>=6.1.0->ipywidgets<9.0.0,>=7.0.0->k3d) (4.8.0)\n",
      "Requirement already satisfied: jedi>=0.16 in /Applications/Slicer.app/Contents/Extensions-31382/SlicerJupyter/lib/python3.9/site-packages (from ipython>=6.1.0->ipywidgets<9.0.0,>=7.0.0->k3d) (0.18.0)\n",
      "Requirement already satisfied: stack-data in /Applications/Slicer.app/Contents/lib/Python/lib/python3.9/site-packages (from ipython>=6.1.0->ipywidgets<9.0.0,>=7.0.0->k3d) (0.6.2)\n",
      "Requirement already satisfied: backcall in /Applications/Slicer.app/Contents/lib/Python/lib/python3.9/site-packages (from ipython>=6.1.0->ipywidgets<9.0.0,>=7.0.0->k3d) (0.2.0)\n",
      "Requirement already satisfied: prompt-toolkit!=3.0.37,<3.1.0,>=3.0.30 in /Applications/Slicer.app/Contents/lib/Python/lib/python3.9/site-packages (from ipython>=6.1.0->ipywidgets<9.0.0,>=7.0.0->k3d) (3.0.38)\n",
      "Requirement already satisfied: pygments>=2.4.0 in /Applications/Slicer.app/Contents/lib/Python/lib/python3.9/site-packages (from ipython>=6.1.0->ipywidgets<9.0.0,>=7.0.0->k3d) (2.14.0)\n",
      "Requirement already satisfied: decorator in /Applications/Slicer.app/Contents/lib/Python/lib/python3.9/site-packages (from ipython>=6.1.0->ipywidgets<9.0.0,>=7.0.0->k3d) (5.1.1)\n",
      "Requirement already satisfied: parso<0.9.0,>=0.8.0 in /Applications/Slicer.app/Contents/Extensions-31382/SlicerJupyter/lib/python3.9/site-packages (from jedi>=0.16->ipython>=6.1.0->ipywidgets<9.0.0,>=7.0.0->k3d) (0.8.3)\n",
      "Requirement already satisfied: python-dateutil>=2.8.2 in /Applications/Slicer.app/Contents/lib/Python/lib/python3.9/site-packages (from jupyter-client>=6.1.12->ipykernel>=4.5.1->ipywidgets<9.0.0,>=7.0.0->k3d) (2.8.2)\n",
      "Requirement already satisfied: importlib-metadata>=4.8.3 in /Applications/Slicer.app/Contents/lib/Python/lib/python3.9/site-packages (from jupyter-client>=6.1.12->ipykernel>=4.5.1->ipywidgets<9.0.0,>=7.0.0->k3d) (6.1.0)\n",
      "Requirement already satisfied: platformdirs>=2.5 in /Applications/Slicer.app/Contents/lib/Python/lib/python3.9/site-packages (from jupyter-core!=5.0.*,>=4.12->ipykernel>=4.5.1->ipywidgets<9.0.0,>=7.0.0->k3d) (3.1.1)\n",
      "Requirement already satisfied: ptyprocess>=0.5 in /Applications/Slicer.app/Contents/lib/Python/lib/python3.9/site-packages (from pexpect>4.3->ipython>=6.1.0->ipywidgets<9.0.0,>=7.0.0->k3d) (0.7.0)\n",
      "Requirement already satisfied: wcwidth in /Applications/Slicer.app/Contents/lib/Python/lib/python3.9/site-packages (from prompt-toolkit!=3.0.37,<3.1.0,>=3.0.30->ipython>=6.1.0->ipywidgets<9.0.0,>=7.0.0->k3d) (0.2.6)\n",
      "Requirement already satisfied: pure-eval in /Applications/Slicer.app/Contents/lib/Python/lib/python3.9/site-packages (from stack-data->ipython>=6.1.0->ipywidgets<9.0.0,>=7.0.0->k3d) (0.2.2)\n",
      "Requirement already satisfied: executing>=1.2.0 in /Applications/Slicer.app/Contents/lib/Python/lib/python3.9/site-packages (from stack-data->ipython>=6.1.0->ipywidgets<9.0.0,>=7.0.0->k3d) (1.2.0)\n",
      "Requirement already satisfied: asttokens>=2.1.0 in /Applications/Slicer.app/Contents/lib/Python/lib/python3.9/site-packages (from stack-data->ipython>=6.1.0->ipywidgets<9.0.0,>=7.0.0->k3d) (2.2.1)\n",
      "Requirement already satisfied: six in /Applications/Slicer.app/Contents/lib/Python/lib/python3.9/site-packages (from asttokens>=2.1.0->stack-data->ipython>=6.1.0->ipywidgets<9.0.0,>=7.0.0->k3d) (1.16.0)\n",
      "Requirement already satisfied: zipp>=0.5 in /Applications/Slicer.app/Contents/lib/Python/lib/python3.9/site-packages (from importlib-metadata>=4.8.3->jupyter-client>=6.1.12->ipykernel>=4.5.1->ipywidgets<9.0.0,>=7.0.0->k3d) (3.15.0)\n",
      "\n",
      "[notice] A new release of pip is available: 23.0 -> 23.2.1\n",
      "[notice] To update, run: python-real -m pip install --upgrade pip\n",
      "Requirement already satisfied: scikit-image in /Applications/Slicer.app/Contents/lib/Python/lib/python3.9/site-packages (0.20.0)\n",
      "Requirement already satisfied: imageio>=2.4.1 in /Applications/Slicer.app/Contents/lib/Python/lib/python3.9/site-packages (from scikit-image) (2.26.0)\n",
      "Requirement already satisfied: scipy<1.9.2,>=1.8 in /Applications/Slicer.app/Contents/lib/Python/lib/python3.9/site-packages (from scikit-image) (1.9.1)\n",
      "Requirement already satisfied: pillow>=9.0.1 in /Applications/Slicer.app/Contents/lib/Python/lib/python3.9/site-packages (from scikit-image) (9.4.0)\n",
      "Requirement already satisfied: lazy_loader>=0.1 in /Applications/Slicer.app/Contents/lib/Python/lib/python3.9/site-packages (from scikit-image) (0.1)\n",
      "Requirement already satisfied: networkx>=2.8 in /Applications/Slicer.app/Contents/lib/Python/lib/python3.9/site-packages (from scikit-image) (3.0)\n",
      "Requirement already satisfied: numpy>=1.21.1 in /Applications/Slicer.app/Contents/lib/Python/lib/python3.9/site-packages (from scikit-image) (1.23.4)\n",
      "Requirement already satisfied: PyWavelets>=1.1.1 in /Applications/Slicer.app/Contents/lib/Python/lib/python3.9/site-packages (from scikit-image) (1.4.1)\n",
      "Requirement already satisfied: packaging>=20.0 in /Applications/Slicer.app/Contents/lib/Python/lib/python3.9/site-packages (from scikit-image) (23.0)\n",
      "Requirement already satisfied: tifffile>=2019.7.26 in /Applications/Slicer.app/Contents/lib/Python/lib/python3.9/site-packages (from scikit-image) (2023.3.15)\n",
      "\n",
      "[notice] A new release of pip is available: 23.0 -> 23.2.1\n",
      "[notice] To update, run: python-real -m pip install --upgrade pip\n",
      "Requirement already satisfied: Rtree in /Applications/Slicer.app/Contents/lib/Python/lib/python3.9/site-packages (1.0.1)\n",
      "\n",
      "[notice] A new release of pip is available: 23.0 -> 23.2.1\n",
      "[notice] To update, run: python-real -m pip install --upgrade pip\n",
      "Requirement already satisfied: pyglet in /Applications/Slicer.app/Contents/lib/Python/lib/python3.9/site-packages (2.0.5)\n",
      "\n",
      "[notice] A new release of pip is available: 23.0 -> 23.2.1\n",
      "[notice] To update, run: python-real -m pip install --upgrade pip\n",
      "Requirement already satisfied: PuLP in /Applications/Slicer.app/Contents/lib/Python/lib/python3.9/site-packages (2.7.0)\n",
      "\n",
      "[notice] A new release of pip is available: 23.0 -> 23.2.1\n",
      "[notice] To update, run: python-real -m pip install --upgrade pip\n",
      "Requirement already satisfied: pyomo in /Applications/Slicer.app/Contents/lib/Python/lib/python3.9/site-packages (6.5.0)\n",
      "Requirement already satisfied: ply in /Applications/Slicer.app/Contents/lib/Python/lib/python3.9/site-packages (from pyomo) (3.11)\n",
      "\n",
      "[notice] A new release of pip is available: 23.0 -> 23.2.1\n",
      "[notice] To update, run: python-real -m pip install --upgrade pip\n",
      "Requirement already satisfied: pandas in /Applications/Slicer.app/Contents/lib/Python/lib/python3.9/site-packages (1.5.3)\n",
      "Requirement already satisfied: python-dateutil>=2.8.1 in /Applications/Slicer.app/Contents/lib/Python/lib/python3.9/site-packages (from pandas) (2.8.2)\n",
      "Requirement already satisfied: pytz>=2020.1 in /Applications/Slicer.app/Contents/lib/Python/lib/python3.9/site-packages (from pandas) (2022.7.1)\n",
      "Requirement already satisfied: numpy>=1.20.3 in /Applications/Slicer.app/Contents/lib/Python/lib/python3.9/site-packages (from pandas) (1.23.4)\n",
      "Requirement already satisfied: six>=1.5 in /Applications/Slicer.app/Contents/lib/Python/lib/python3.9/site-packages (from python-dateutil>=2.8.1->pandas) (1.16.0)\n",
      "\n",
      "[notice] A new release of pip is available: 23.0 -> 23.2.1\n",
      "[notice] To update, run: python-real -m pip install --upgrade pip\n",
      "Requirement already satisfied: numpy in /Applications/Slicer.app/Contents/lib/Python/lib/python3.9/site-packages (1.23.4)\n",
      "Requirement already satisfied: vg in /Applications/Slicer.app/Contents/lib/Python/lib/python3.9/site-packages (2.0.0)\n",
      "\n",
      "[notice] A new release of pip is available: 23.0 -> 23.2.1\n",
      "[notice] To update, run: python-real -m pip install --upgrade pip\n",
      "Requirement already satisfied: matplotlib in /Applications/Slicer.app/Contents/lib/Python/lib/python3.9/site-packages (3.7.1)\n",
      "Requirement already satisfied: fonttools>=4.22.0 in /Applications/Slicer.app/Contents/lib/Python/lib/python3.9/site-packages (from matplotlib) (4.39.2)\n",
      "Requirement already satisfied: kiwisolver>=1.0.1 in /Applications/Slicer.app/Contents/lib/Python/lib/python3.9/site-packages (from matplotlib) (1.4.4)\n",
      "Requirement already satisfied: pyparsing>=2.3.1 in /Applications/Slicer.app/Contents/lib/Python/lib/python3.9/site-packages (from matplotlib) (3.0.9)\n",
      "Requirement already satisfied: contourpy>=1.0.1 in /Applications/Slicer.app/Contents/lib/Python/lib/python3.9/site-packages (from matplotlib) (1.0.7)\n",
      "Requirement already satisfied: numpy>=1.20 in /Applications/Slicer.app/Contents/lib/Python/lib/python3.9/site-packages (from matplotlib) (1.23.4)\n",
      "Requirement already satisfied: packaging>=20.0 in /Applications/Slicer.app/Contents/lib/Python/lib/python3.9/site-packages (from matplotlib) (23.0)\n",
      "Requirement already satisfied: importlib-resources>=3.2.0 in /Applications/Slicer.app/Contents/lib/Python/lib/python3.9/site-packages (from matplotlib) (5.12.0)\n",
      "Requirement already satisfied: pillow>=6.2.0 in /Applications/Slicer.app/Contents/lib/Python/lib/python3.9/site-packages (from matplotlib) (9.4.0)\n",
      "Requirement already satisfied: python-dateutil>=2.7 in /Applications/Slicer.app/Contents/lib/Python/lib/python3.9/site-packages (from matplotlib) (2.8.2)\n",
      "Requirement already satisfied: cycler>=0.10 in /Applications/Slicer.app/Contents/lib/Python/lib/python3.9/site-packages (from matplotlib) (0.11.0)\n",
      "Requirement already satisfied: zipp>=3.1.0 in /Applications/Slicer.app/Contents/lib/Python/lib/python3.9/site-packages (from importlib-resources>=3.2.0->matplotlib) (3.15.0)\n",
      "Requirement already satisfied: six>=1.5 in /Applications/Slicer.app/Contents/lib/Python/lib/python3.9/site-packages (from python-dateutil>=2.7->matplotlib) (1.16.0)\n",
      "\n",
      "[notice] A new release of pip is available: 23.0 -> 23.2.1\n",
      "[notice] To update, run: python-real -m pip install --upgrade pip\n",
      "Requirement already satisfied: shapely in /Applications/Slicer.app/Contents/lib/Python/lib/python3.9/site-packages (2.0.1)\n",
      "Requirement already satisfied: numpy>=1.14 in /Applications/Slicer.app/Contents/lib/Python/lib/python3.9/site-packages (from shapely) (1.23.4)\n",
      "\n",
      "[notice] A new release of pip is available: 23.0 -> 23.2.1\n",
      "[notice] To update, run: python-real -m pip install --upgrade pip\n",
      "Requirement already satisfied: mapbox_earcut in /Applications/Slicer.app/Contents/lib/Python/lib/python3.9/site-packages (1.0.1)\n",
      "Requirement already satisfied: numpy in /Applications/Slicer.app/Contents/lib/Python/lib/python3.9/site-packages (from mapbox_earcut) (1.23.4)\n",
      "\n",
      "[notice] A new release of pip is available: 23.0 -> 23.2.1\n",
      "[notice] To update, run: python-real -m pip install --upgrade pip\n",
      "Requirement already satisfied: openpyxl in /Applications/Slicer.app/Contents/lib/Python/lib/python3.9/site-packages (3.1.2)\n",
      "Requirement already satisfied: et-xmlfile in /Applications/Slicer.app/Contents/lib/Python/lib/python3.9/site-packages (from openpyxl) (1.1.0)\n",
      "\n",
      "[notice] A new release of pip is available: 23.0 -> 23.2.1\n",
      "[notice] To update, run: python-real -m pip install --upgrade pip\n"
     ]
    }
   ],
   "source": [
    "# Packages to Download into Slicer for this notebook to work\n",
    "# This Box can be deleted after run once.\n",
    "\n",
    "import slicer\n",
    "slicer.util.pip_install('trimesh')\n",
    "slicer.util.pip_install('k3d')\n",
    "slicer.util.pip_install('scikit-image')\n",
    "slicer.util.pip_install('Rtree')\n",
    "slicer.util.pip_install('pyglet')\n",
    "slicer.util.pip_install('PuLP')\n",
    "#slicer.util.pip_install('glpk')\n",
    "slicer.util.pip_install('pyomo')\n",
    "slicer.util.pip_install('pandas')\n",
    "slicer.util.pip_install('numpy vg')\n",
    "slicer.util.pip_install(\"matplotlib\")\n",
    "slicer.util.pip_install('shapely')\n",
    "slicer.util.pip_install('mapbox_earcut')\n",
    "slicer.util.pip_install('openpyxl')"
   ]
  },
  {
   "cell_type": "markdown",
   "id": "4b613649",
   "metadata": {},
   "source": [
    "# SpineAng \n",
    "<p>An 3D Slicer integrated Jupyter notebook to assist in analysis of vertebrae. </p>\n",
    "<p>Currently suports the following functions</p>\n",
    "<ul>\n",
    "    <li><code>x = vertebrae(volume = 'mesh_name', segments=['Segment_ID'])</code>Start by initiating a vertebral instance with an example can be seen in the first cell</li>\n",
    "    <li><code>x.calculate_symmetry_rot()</code> calulate rotation from saggital plane, based on symmetry plane calculated by ICP registration and Optimal Pairwise assignment of curves. [1,2] </li>\n",
    "    <li><code>x.seperate_symmetry_body()</code> seperate vertebral body from vertebrae, <b>Requies x.calculate_symmetry_rot() be run first </b> Calculated using optimizing of volume to bounding box ratio</li>\n",
    "    <li><code>x.show_plot()</code> will display current meshes and calculations</li>    \n",
    "\n",
    "\n",
    "</ul>\n",
    "\n",
    "\n",
    "<p>Current future advances hope to include<p>\n",
    "<ul><li>Side Bending and Flexion calculations</li>\n",
    "    <li>Symmetry plane calculation based on gradient</li>\n",
    "    <li>Scoliosis curve calulation</li>\n",
    "    <li>CT mesh alignment with multiple X-ray views</li>\n",
    "</ul>"
   ]
  },
  {
   "cell_type": "code",
   "execution_count": 4,
   "id": "40850b9d",
   "metadata": {},
   "outputs": [],
   "source": [
    "from rot_det import *"
   ]
  },
  {
   "cell_type": "code",
   "execution_count": 2,
   "id": "e2aedba9",
   "metadata": {
    "scrolled": false
   },
   "outputs": [
    {
     "name": "stderr",
     "output_type": "stream",
     "text": [
      "/Applications/Slicer.app/Contents/lib/Python/lib/python3.9/site-packages/traittypes/traittypes.py:97: UserWarning: Given trait value dtype \"float64\" does not match required type \"float32\". A coerced copy has been created.\n",
      "  warnings.warn(\n",
      "/Applications/Slicer.app/Contents/lib/Python/lib/python3.9/site-packages/traittypes/traittypes.py:97: UserWarning: Given trait value dtype \"int64\" does not match required type \"uint32\". A coerced copy has been created.\n",
      "  warnings.warn(\n",
      "/Applications/Slicer.app/Contents/lib/Python/lib/python3.9/site-packages/traittypes/traittypes.py:97: UserWarning: Given trait value dtype \"int64\" does not match required type \"float32\". A coerced copy has been created.\n",
      "  warnings.warn(\n"
     ]
    },
    {
     "data": {
      "application/vnd.jupyter.widget-view+json": {
       "model_id": "ec513ef7e31c4676a42bbf86f8003f9a",
       "version_major": 2,
       "version_minor": 0
      },
      "text/plain": [
       "Output()"
      ]
     },
     "metadata": {},
     "output_type": "display_data"
    },
    {
     "data": {
      "text/html": [
       "<div>\n",
       "<style scoped>\n",
       "    .dataframe tbody tr th:only-of-type {\n",
       "        vertical-align: middle;\n",
       "    }\n",
       "\n",
       "    .dataframe tbody tr th {\n",
       "        vertical-align: top;\n",
       "    }\n",
       "\n",
       "    .dataframe thead th {\n",
       "        text-align: right;\n",
       "    }\n",
       "</style>\n",
       "<table border=\"1\" class=\"dataframe\">\n",
       "  <thead>\n",
       "    <tr style=\"text-align: right;\">\n",
       "      <th></th>\n",
       "      <th>Volume</th>\n",
       "      <th>SegmentID</th>\n",
       "      <th>Rotation</th>\n",
       "    </tr>\n",
       "  </thead>\n",
       "  <tbody>\n",
       "    <tr>\n",
       "      <th>0</th>\n",
       "      <td>verse089</td>\n",
       "      <td>Segment_18</td>\n",
       "      <td>-6.378163</td>\n",
       "    </tr>\n",
       "    <tr>\n",
       "      <th>0</th>\n",
       "      <td>verse089</td>\n",
       "      <td>Segment_19</td>\n",
       "      <td>-6.690933</td>\n",
       "    </tr>\n",
       "  </tbody>\n",
       "</table>\n",
       "</div>"
      ],
      "text/plain": [
       "     Volume   SegmentID  Rotation\n",
       "0  verse089  Segment_18 -6.378163\n",
       "0  verse089  Segment_19 -6.690933"
      ]
     },
     "metadata": {},
     "output_type": "display_data"
    }
   ],
   "source": [
    "x = vertebrae(volume='verse089', segments=['Segment_18', 'Segment_19'])\n",
    "x.calculate_symmetry_rot()\n",
    "x.show_plot()\n",
    "\n",
    "\n",
    "display(x.data)"
   ]
  },
  {
   "cell_type": "code",
   "execution_count": 3,
   "id": "976f0753",
   "metadata": {},
   "outputs": [
    {
     "name": "stderr",
     "output_type": "stream",
     "text": [
      "/Applications/Slicer.app/Contents/lib/Python/lib/python3.9/site-packages/traittypes/traittypes.py:97: UserWarning: Given trait value dtype \"float64\" does not match required type \"float32\". A coerced copy has been created.\n",
      "  warnings.warn(\n",
      "/Applications/Slicer.app/Contents/lib/Python/lib/python3.9/site-packages/traittypes/traittypes.py:97: UserWarning: Given trait value dtype \"int64\" does not match required type \"uint32\". A coerced copy has been created.\n",
      "  warnings.warn(\n",
      "/Applications/Slicer.app/Contents/lib/Python/lib/python3.9/site-packages/traittypes/traittypes.py:97: UserWarning: Given trait value dtype \"int64\" does not match required type \"float32\". A coerced copy has been created.\n",
      "  warnings.warn(\n"
     ]
    },
    {
     "data": {
      "application/vnd.jupyter.widget-view+json": {
       "model_id": "e58282f7b626414fbfc3a36589158300",
       "version_major": 2,
       "version_minor": 0
      },
      "text/plain": [
       "Output()"
      ]
     },
     "metadata": {},
     "output_type": "display_data"
    }
   ],
   "source": [
    "x.seperate_symmetry_body()\n",
    "x.show_plot()"
   ]
  },
  {
   "cell_type": "code",
   "execution_count": null,
   "id": "14d5edb6",
   "metadata": {},
   "outputs": [],
   "source": []
  }
 ],
 "metadata": {
  "kernelspec": {
   "display_name": "Slicer 5.2",
   "language": "python",
   "name": "slicer-5.2"
  },
  "language_info": {
   "file_extension": ".py",
   "mimetype": "text/x-python",
   "name": "python",
   "version": "3.9.10"
  }
 },
 "nbformat": 4,
 "nbformat_minor": 5
}
